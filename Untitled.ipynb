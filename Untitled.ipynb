{
 "cells": [
  {
   "cell_type": "code",
   "execution_count": 6,
   "metadata": {
    "collapsed": true
   },
   "outputs": [],
   "source": [
    "def get_prime_number (num):\n",
    "\t\"\"\"Summary line.\n",
    "\tエラトステネスの篩アルゴリズムを使い、素因数分解を行う\n",
    "\tArgs:\n",
    "\t\tnum (int): 素因数分解を行う数値\n",
    "\tReturns:\n",
    "\t\tlist: 素因数分解された素数\n",
    "\t\"\"\"\n",
    "\n",
    "\tif str(num).isdigit() or num < 2:\n",
    "\t\t#自然数かつ1以上の数値を判定\n",
    "\t\treturn print('１より大きい自然数を入力してください')\n",
    "\n",
    "\tsequence_list = [i for i in range (2, num+1)]\n",
    "\t#2から入力値までの数列のリスト\n",
    "\tprime_list = []\n",
    "\t#素数のリスト\n",
    "\n",
    "\twhile True:\n",
    "\t\tprime = min(sequence_list)\n",
    "\n",
    "\t\tif prime > math.sqrt(num):\n",
    "\t\t\t#入力値の平方根以上は全てリストに加えて終了\n",
    "\t\t\tprime_list.extend(sequence_list)\n",
    "\t\t\tbreak\n",
    "\t\telse:\n",
    "\t\t\tprime_list.append(prime)\n",
    "\n",
    "\t\ti = 0\n",
    "\t\twhile i < len(sequence_list):\n",
    "\t\t\tif sequence_list[i] % prime == 0:\n",
    "\t\t\t\t#素数の倍数をリストから削除\n",
    "\t\t\t\tsequence_list.pop(i)\n",
    "\t\t\t\tcontinue\n",
    "\t\t\ti += 1\n",
    "\n",
    "\treturn prime_list"
   ]
  },
  {
   "cell_type": "code",
   "execution_count": 7,
   "metadata": {},
   "outputs": [
    {
     "name": "stdout",
     "output_type": "stream",
     "text": [
      "１より大きい自然数を入力してください\n",
      "None\n"
     ]
    }
   ],
   "source": [
    "num = 12\n",
    "ans = get_prime_number(num)\n",
    "print(ans)"
   ]
  },
  {
   "cell_type": "code",
   "execution_count": 24,
   "metadata": {},
   "outputs": [],
   "source": [
    "\tif not str('02').isdigit() or num < 2:\n",
    "\t\t#自然数かつ1以上の数値を判定\n",
    "\t\tprint('１より大きい自然数を入力してください')"
   ]
  },
  {
   "cell_type": "code",
   "execution_count": 30,
   "metadata": {},
   "outputs": [
    {
     "data": {
      "text/plain": [
       "False"
      ]
     },
     "execution_count": 30,
     "metadata": {},
     "output_type": "execute_result"
    }
   ],
   "source": [
    "\"xxx\".isdigit()"
   ]
  },
  {
   "cell_type": "code",
   "execution_count": null,
   "metadata": {
    "collapsed": true
   },
   "outputs": [],
   "source": []
  }
 ],
 "metadata": {
  "kernelspec": {
   "display_name": "Python 3",
   "language": "python",
   "name": "python3"
  },
  "language_info": {
   "codemirror_mode": {
    "name": "ipython",
    "version": 3
   },
   "file_extension": ".py",
   "mimetype": "text/x-python",
   "name": "python",
   "nbconvert_exporter": "python",
   "pygments_lexer": "ipython3",
   "version": "3.5.2"
  }
 },
 "nbformat": 4,
 "nbformat_minor": 2
}
